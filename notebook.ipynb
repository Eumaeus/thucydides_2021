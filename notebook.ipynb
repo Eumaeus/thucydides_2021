{
 "cells": [
  {
   "cell_type": "markdown",
   "metadata": {},
   "source": [
    "# Thucydides: Text & Translation"
   ]
  },
  {
   "cell_type": "markdown",
   "metadata": {},
   "source": [
    "## Configuring CITE libraries for almond kernel\n",
    "\n",
    "First, we'll make a bintray repository with CITE libraries available to your almond kernel."
   ]
  },
  {
   "cell_type": "code",
   "execution_count": 13,
   "metadata": {},
   "outputs": [
    {
     "data": {
      "text/plain": [
       "\u001b[36mmyBT\u001b[39m: \u001b[32mcoursierapi\u001b[39m.\u001b[32mMavenRepository\u001b[39m = MavenRepository(https://terracotta.hpcc.uh.edu/nexus/repository/maven-releases/)"
      ]
     },
     "execution_count": 13,
     "metadata": {},
     "output_type": "execute_result"
    }
   ],
   "source": [
    "val myBT = coursierapi.MavenRepository.of(\"https://terracotta.hpcc.uh.edu/nexus/repository/maven-releases/\")\n",
    "interp.repositories() ++= Seq(myBT)"
   ]
  },
  {
   "cell_type": "markdown",
   "metadata": {},
   "source": [
    "Next, we bring in specific libraries from the new repository using almond's `$ivy` magic:"
   ]
  },
  {
   "cell_type": "code",
   "execution_count": 14,
   "metadata": {},
   "outputs": [
    {
     "data": {
      "text/plain": [
       "\u001b[32mimport \u001b[39m\u001b[36m$ivy.$                                     \n",
       "\n",
       "\u001b[39m\n",
       "\u001b[32mimport \u001b[39m\u001b[36m$ivy.$                                  \n",
       "\u001b[39m\n",
       "\u001b[32mimport \u001b[39m\u001b[36m$ivy.$                              \n",
       "\u001b[39m\n",
       "\u001b[32mimport \u001b[39m\u001b[36m$ivy.$                              \n",
       "\u001b[39m\n",
       "\u001b[32mimport \u001b[39m\u001b[36m$ivy.$                                          \n",
       "\u001b[39m\n",
       "\u001b[32mimport \u001b[39m\u001b[36m$ivy.$                                  \n",
       "\u001b[39m\n",
       "\u001b[32mimport \u001b[39m\u001b[36m$ivy.$                                        \n",
       "\u001b[39m\n",
       "\u001b[32mimport \u001b[39m\u001b[36m$ivy.$                              \n",
       "\u001b[39m\n",
       "\u001b[32mimport \u001b[39m\u001b[36m$ivy.$                                \n",
       "\n",
       "\u001b[39m"
      ]
     },
     "execution_count": 14,
     "metadata": {},
     "output_type": "execute_result"
    }
   ],
   "source": [
    "\n",
    "import $ivy.`edu.holycross.shot.cite::xcite:4.3.1`\n",
    "\n",
    "import $ivy.`edu.holycross.shot::ohco2:10.20.5`\n",
    "import $ivy.`edu.holycross.shot::scm:7.4.1`\n",
    "import $ivy.`edu.holycross.shot::dse:7.1.4`\n",
    "import $ivy.`edu.holycross.shot::citebinaryimage:3.2.1`\n",
    "import $ivy.`edu.holycross.shot::citeobj:7.5.2`\n",
    "import $ivy.`edu.holycross.shot::citerelations:2.7.1`\n",
    "import $ivy.`edu.holycross.shot::cex:6.5.1`\n",
    "import $ivy.`edu.holycross.shot::greek:9.1.0`\n",
    "\n"
   ]
  },
  {
   "cell_type": "markdown",
   "metadata": {},
   "source": [
    "## Imports\n",
    "\n",
    "From this point on, your notebook consists of completely generic Scala, with the CITE Libraries available to use."
   ]
  },
  {
   "cell_type": "code",
   "execution_count": 15,
   "metadata": {},
   "outputs": [
    {
     "data": {
      "text/plain": [
       "\u001b[32mimport \u001b[39m\u001b[36medu.holycross.shot.cite._\n",
       "\u001b[39m\n",
       "\u001b[32mimport \u001b[39m\u001b[36medu.holycross.shot.ohco2._\n",
       "\u001b[39m\n",
       "\u001b[32mimport \u001b[39m\u001b[36medu.holycross.shot.scm._\n",
       "\u001b[39m\n",
       "\u001b[32mimport \u001b[39m\u001b[36medu.holycross.shot.citeobj._\n",
       "\u001b[39m\n",
       "\u001b[32mimport \u001b[39m\u001b[36medu.holycross.shot.citerelation._\n",
       "\u001b[39m\n",
       "\u001b[32mimport \u001b[39m\u001b[36medu.holycross.shot.dse._\n",
       "\u001b[39m\n",
       "\u001b[32mimport \u001b[39m\u001b[36medu.holycross.shot.citebinaryimage._\n",
       "\u001b[39m\n",
       "\u001b[32mimport \u001b[39m\u001b[36medu.holycross.shot.ohco2._\n",
       "\u001b[39m\n",
       "\u001b[32mimport \u001b[39m\u001b[36medu.holycross.shot.greek._\n",
       "\n",
       "\u001b[39m\n",
       "\u001b[32mimport \u001b[39m\u001b[36malmond.display.UpdatableDisplay\n",
       "\u001b[39m\n",
       "\u001b[32mimport \u001b[39m\u001b[36malmond.interpreter.api.DisplayData.ContentType\n",
       "\u001b[39m\n",
       "\u001b[32mimport \u001b[39m\u001b[36malmond.interpreter.api.{DisplayData, OutputHandler}\n",
       "\n",
       "\u001b[39m\n",
       "\u001b[32mimport \u001b[39m\u001b[36mjava.io.File\n",
       "\u001b[39m\n",
       "\u001b[32mimport \u001b[39m\u001b[36mjava.io.PrintWriter\n",
       "\n",
       "\u001b[39m\n",
       "\u001b[32mimport \u001b[39m\u001b[36mscala.io.Source\n",
       "\n",
       "\u001b[39m"
      ]
     },
     "execution_count": 15,
     "metadata": {},
     "output_type": "execute_result"
    }
   ],
   "source": [
    "// Import some CITE libraries\n",
    "import edu.holycross.shot.cite._\n",
    "import edu.holycross.shot.ohco2._\n",
    "import edu.holycross.shot.scm._\n",
    "import edu.holycross.shot.citeobj._\n",
    "import edu.holycross.shot.citerelation._\n",
    "import edu.holycross.shot.dse._\n",
    "import edu.holycross.shot.citebinaryimage._\n",
    "import edu.holycross.shot.ohco2._\n",
    "import edu.holycross.shot.greek._\n",
    "\n",
    "import almond.display.UpdatableDisplay\n",
    "import almond.interpreter.api.DisplayData.ContentType\n",
    "import almond.interpreter.api.{DisplayData, OutputHandler}\n",
    "\n",
    "import java.io.File\n",
    "import java.io.PrintWriter\n",
    "\n",
    "import scala.io.Source\n",
    "\n"
   ]
  },
  {
   "cell_type": "markdown",
   "metadata": {},
   "source": [
    "### Set Up Plotting"
   ]
  },
  {
   "cell_type": "code",
   "execution_count": 16,
   "metadata": {},
   "outputs": [
    {
     "data": {
      "text/plain": [
       "\u001b[32mimport \u001b[39m\u001b[36m$ivy.$                                      \n",
       "\u001b[39m\n",
       "\u001b[32mimport \u001b[39m\u001b[36mplotly._, plotly.element._, plotly.layout._, plotly.Almond._\n",
       "\n",
       "// if you want to have the plots available without an internet connection:\n",
       "// init(offline=true)\n",
       "\n",
       "// restrict the output height to avoid scrolling in output cells\n",
       "\u001b[39m"
      ]
     },
     "execution_count": 16,
     "metadata": {},
     "output_type": "execute_result"
    }
   ],
   "source": [
    "import $ivy.`org.plotly-scala::plotly-almond:0.7.1`\n",
    "import plotly._, plotly.element._, plotly.layout._, plotly.Almond._\n",
    "\n",
    "// if you want to have the plots available without an internet connection:\n",
    "// init(offline=true)\n",
    "\n",
    "// restrict the output height to avoid scrolling in output cells\n",
    "repl.pprinter() = repl.pprinter().copy(defaultHeight = 3)"
   ]
  },
  {
   "cell_type": "markdown",
   "metadata": {},
   "source": [
    "## Some Utilities"
   ]
  },
  {
   "cell_type": "code",
   "execution_count": 17,
   "metadata": {},
   "outputs": [
    {
     "data": {
      "text/plain": [
       "defined \u001b[32mfunction\u001b[39m \u001b[36mshowMe\u001b[39m\n",
       "defined \u001b[32mfunction\u001b[39m \u001b[36msaveString\u001b[39m\n",
       "\u001b[36msplitters\u001b[39m: \u001b[32mString\u001b[39m = \u001b[32m\"[\\\\[\\\\])(\\u00b7\\u2e01.,:\\u00b7;;   \\\"?\\u00b7!\\u2013\\u2014\\u2e02\\u2e03]\"\u001b[39m\n",
       "defined \u001b[32mfunction\u001b[39m \u001b[36msplitWithSplitter\u001b[39m\n",
       "defined \u001b[32mfunction\u001b[39m \u001b[36mtsvFromCorpus\u001b[39m\n",
       "defined \u001b[32mfunction\u001b[39m \u001b[36mtsvFromCorpus\u001b[39m"
      ]
     },
     "execution_count": 17,
     "metadata": {},
     "output_type": "execute_result"
    }
   ],
   "source": [
    "def showMe(v:Any):Unit = {\n",
    "  v match {\n",
    "    case _:StringHistogram => {\n",
    "        for ( h <- v.asInstanceOf[StringHistogram].histogram ) {\n",
    "            println(s\"${h.count}\\t${h.s}\")\n",
    "        }\n",
    "    }\n",
    "  \tcase _:Corpus => {\n",
    "  \t\tfor ( n <- v.asInstanceOf[Corpus].nodes) {\n",
    "  \t\t\tprintln(s\"${n.urn.passageComponent}\\t\\t${n.text}\")\n",
    "  \t\t}\t\n",
    "  \t}\n",
    "    case _:Vector[Any] => println(s\"\"\"\\n----\\n${v.asInstanceOf[Vector[Any]].mkString(\"\\n\")}\\n----\\n\"\"\")\n",
    "    case _:Iterable[Any] => println(s\"\"\"\\n----\\n${v.asInstanceOf[Iterable[Any]].mkString(\"\\n\")}\\n----\\n\"\"\")\n",
    "    case _ => println(s\"\\n-----\\n${v}\\n----\\n\")\n",
    "  }\n",
    "}\n",
    "\n",
    "def saveString(s:String, filePath:String = \"\", fileName:String = \"temp.txt\"):Unit = {\n",
    "\t\t val writer = new PrintWriter(new File(s\"${filePath}${fileName}\"))\n",
    "         writer.write(s)\n",
    "         writer.close()\n",
    "\t}\n",
    "\n",
    "val splitters:String = \"\"\"[\\[\\])(·⸁.,:·;;   \"?·!–—⸂⸃]\"\"\"\n",
    "\n",
    "def splitWithSplitter(text:String, splitters:String = \"\"\"[\\[\\]··⸁.; \"?!–—⸂⸃]\"\"\"):Vector[String] = {\n",
    "\tval regexWithSplitter = s\"(?<=${splitters})\"\n",
    "\ttext.split(regexWithSplitter).toVector.filter(_.size > 0)\n",
    "}\n",
    "\n",
    "// A function to make CSV data out of a Corpus or Vector of Nodes\n",
    "\n",
    "def tsvFromCorpus(nv: Vector[CitableNode]): String = {\n",
    "    val headerLine: String = \"citation\\ttext\"\n",
    "    val data: Vector[String] = nv.map( n => {\n",
    "        s\"${n.urn}\\t${n.text}\"\n",
    "    })\n",
    "    val allData: Vector[String] = headerLine +: data\n",
    "    allData.mkString(\"\\n\")\n",
    "}\n",
    "\n",
    "def tsvFromCorpus(c: Corpus): String = {\n",
    "    val n: Vector[CitableNode] = c.nodes\n",
    "    tsvFromCorpus(n)\n",
    "}\n",
    "\n"
   ]
  },
  {
   "cell_type": "markdown",
   "metadata": {},
   "source": [
    "## Load Tokenized Data into a CITE Library"
   ]
  },
  {
   "cell_type": "code",
   "execution_count": 18,
   "metadata": {
    "scrolled": true
   },
   "outputs": [
    {
     "name": "stderr",
     "output_type": "stream",
     "text": [
      "Dec 01, 2021 9:15:50 AM wvlet.log.Logger log\n",
      "INFO: Building text repo from cex ...\n",
      "Dec 01, 2021 9:15:58 AM wvlet.log.Logger log\n",
      "INFO: Building collection repo from cex ...\n",
      "Dec 01, 2021 9:15:59 AM wvlet.log.Logger log\n",
      "INFO: Building relations from cex ...\n",
      "Dec 01, 2021 9:15:59 AM wvlet.log.Logger log\n",
      "INFO: All library components built.\n"
     ]
    },
    {
     "data": {
      "text/plain": [
       "\u001b[36mfilePath\u001b[39m: \u001b[32mString\u001b[39m = \u001b[32m\"all_thucydides_tokenized.cex\"\u001b[39m\n",
       "\u001b[36mlib\u001b[39m: \u001b[32mCiteLibrary\u001b[39m = \u001b[33mCiteLibrary\u001b[39m(\n",
       "  \u001b[32m\"CEX Library created by CEXWriter\"\u001b[39m,\n",
       "..."
      ]
     },
     "execution_count": 18,
     "metadata": {},
     "output_type": "execute_result"
    }
   ],
   "source": [
    "//val filePath = s\"https://raw.githubusercontent.com/homermultitext/hmt-archive/master/releases-cex/hmt-2020f.cex\"\n",
    "//val lib: CiteLibrary = CiteLibrarySource.fromUrl(filePath)\n",
    "\n",
    "val filePath = s\"all_thucydides_tokenized.cex\"\n",
    "val lib: CiteLibrary = CiteLibrarySource.fromFile(filePath)"
   ]
  },
  {
   "cell_type": "markdown",
   "metadata": {},
   "source": [
    "### Get parts of the CITE Library in convenient form:"
   ]
  },
  {
   "cell_type": "code",
   "execution_count": 19,
   "metadata": {
    "scrolled": false
   },
   "outputs": [
    {
     "data": {
      "text/html": [
       "<div class=\"jp-RenderedText\">\n",
       "<pre><code><span style=\"color: rgb(0, 187, 187)\"><span class=\"ansi-cyan-fg\">tr</span></span>: <span style=\"color: rgb(0, 187, 0)\"><span class=\"ansi-green-fg\">TextRepository</span></span> = <span style=\"color: yellow\"><span class=\"ansi-yellow-fg\">TextRepository</span></span>(\n",
       "  <span style=\"color: yellow\"><span class=\"ansi-yellow-fg\">Corpus</span></span>(\n",
       "...\n",
       "<span style=\"color: rgb(0, 187, 187)\"><span class=\"ansi-cyan-fg\">corp</span></span>: <span style=\"color: rgb(0, 187, 0)\"><span class=\"ansi-green-fg\">Corpus</span></span> = <style>@keyframes fadein { from { opacity: 0; } to { opacity: 1; } }</style><span style=\"animation: fadein 2s;\"><span style=\"color: yellow\"><span class=\"ansi-yellow-fg\">Corpus</span></span>(\n",
       "  <span style=\"color: yellow\"><span class=\"ansi-yellow-fg\">Vector</span></span>(\n",
       "...</span>\n",
       "<span style=\"color: rgb(0, 187, 187)\"><span class=\"ansi-cyan-fg\">cat</span></span>: <span style=\"color: rgb(0, 187, 0)\"><span class=\"ansi-green-fg\">Catalog</span></span> = <span style=\"color: white\"><span class=\"ansi-white-fg\">[lazy]</span></span>\n",
       "<span style=\"color: rgb(0, 187, 187)\"><span class=\"ansi-cyan-fg\">colls</span></span>: <span style=\"color: rgb(0, 187, 0)\"><span class=\"ansi-green-fg\">CiteCollectionRepository</span></span> = <span style=\"color: white\"><span class=\"ansi-white-fg\">[lazy]</span></span>\n",
       "<span style=\"color: rgb(0, 187, 187)\"><span class=\"ansi-cyan-fg\">rels</span></span>: <span style=\"color: rgb(0, 187, 0)\"><span class=\"ansi-green-fg\">CiteRelationSet</span></span> = <span style=\"color: white\"><span class=\"ansi-white-fg\">[lazy]</span></span>\n",
       "<span style=\"color: rgb(0, 187, 187)\"><span class=\"ansi-cyan-fg\">myDseVec</span></span>: <span style=\"color: rgb(0, 187, 0)\"><span class=\"ansi-green-fg\">DseVector</span></span> = <span style=\"color: white\"><span class=\"ansi-white-fg\">[lazy]</span></span></code></pre>\n",
       "</div>"
      ],
      "text/plain": [
       "\u001b[36mtr\u001b[39m: \u001b[32mTextRepository\u001b[39m = \u001b[33mTextRepository\u001b[39m(\n",
       "  \u001b[33mCorpus\u001b[39m(\n",
       "...\n",
       "\u001b[36mcorp\u001b[39m: \u001b[32mCorpus\u001b[39m = \u001b[33mCorpus\u001b[39m(\n",
       "  \u001b[33mVector\u001b[39m(\n",
       "...\n",
       "\u001b[36mcat\u001b[39m: \u001b[32mCatalog\u001b[39m = \u001b[37m[lazy]\u001b[39m\n",
       "\u001b[36mcolls\u001b[39m: \u001b[32mCiteCollectionRepository\u001b[39m = \u001b[37m[lazy]\u001b[39m\n",
       "\u001b[36mrels\u001b[39m: \u001b[32mCiteRelationSet\u001b[39m = \u001b[37m[lazy]\u001b[39m\n",
       "\u001b[36mmyDseVec\u001b[39m: \u001b[32mDseVector\u001b[39m = \u001b[37m[lazy]\u001b[39m"
      ]
     },
     "metadata": {},
     "output_type": "display_data"
    }
   ],
   "source": [
    "lazy val tr: TextRepository = lib.textRepository.get\n",
    "lazy val corp: Corpus = tr.corpus\n",
    "lazy val cat: Catalog = tr.catalog\n",
    "lazy val colls: CiteCollectionRepository = lib.collectionRepository.get\n",
    "lazy val rels: CiteRelationSet = lib.relationSet.get\n",
    "lazy val myDseVec: DseVector = DseVector.fromCiteLibrary(lib)"
   ]
  },
  {
   "cell_type": "markdown",
   "metadata": {},
   "source": [
    "### Get Greek and English into separate Corpora"
   ]
  },
  {
   "cell_type": "code",
   "execution_count": 20,
   "metadata": {},
   "outputs": [
    {
     "data": {
      "text/plain": [
       "\u001b[36mthucGrkURN\u001b[39m: \u001b[32mCtsUrn\u001b[39m = \u001b[33mCtsUrn\u001b[39m(\u001b[32m\"urn:cts:greekLit:tlg0003.tlg001.grc.token:\"\u001b[39m)\n",
       "\u001b[36mthucEngURN\u001b[39m: \u001b[32mCtsUrn\u001b[39m = \u001b[33mCtsUrn\u001b[39m(\u001b[32m\"urn:cts:greekLit:tlg0003.tlg001.eng.token:\"\u001b[39m)\n",
       "\u001b[36mthucEngFURN\u001b[39m: \u001b[32mCtsUrn\u001b[39m = \u001b[33mCtsUrn\u001b[39m(\u001b[32m\"urn:cts:greekLit:tlg0003.tlg001.engFu2021.token:\"\u001b[39m)\n",
       "\u001b[36mthucGrk\u001b[39m: \u001b[32mCorpus\u001b[39m = \u001b[33mCorpus\u001b[39m(\n",
       "  \u001b[33mVector\u001b[39m(\n",
       "...\n",
       "\u001b[36mthucEng\u001b[39m: \u001b[32mCorpus\u001b[39m = \u001b[33mCorpus\u001b[39m(\n",
       "  \u001b[33mVector\u001b[39m(\n",
       "...\n",
       "\u001b[36mthucFU\u001b[39m: \u001b[32mCorpus\u001b[39m = \u001b[33mCorpus\u001b[39m(\n",
       "  \u001b[33mVector\u001b[39m(\n",
       "..."
      ]
     },
     "execution_count": 20,
     "metadata": {},
     "output_type": "execute_result"
    }
   ],
   "source": [
    "val thucGrkURN: CtsUrn = CtsUrn(\"urn:cts:greekLit:tlg0003.tlg001.grc.token:\")\n",
    "val thucEngURN: CtsUrn = CtsUrn(\"urn:cts:greekLit:tlg0003.tlg001.eng.token:\")\n",
    "val thucEngFURN: CtsUrn = CtsUrn(\"urn:cts:greekLit:tlg0003.tlg001.engFu2021.token:\")\n",
    "\n",
    "val thucGrk: Corpus = corp ~~ thucGrkURN\n",
    "val thucEng: Corpus = corp ~~ thucEngURN \n",
    "val thucFU: Corpus = corp ~~ thucEngFURN"
   ]
  },
  {
   "cell_type": "code",
   "execution_count": null,
   "metadata": {},
   "outputs": [],
   "source": []
  },
  {
   "cell_type": "markdown",
   "metadata": {},
   "source": [
    "# Counting Games"
   ]
  },
  {
   "cell_type": "markdown",
   "metadata": {},
   "source": [
    "### Count Word-Tokens"
   ]
  },
  {
   "cell_type": "code",
   "execution_count": 21,
   "metadata": {},
   "outputs": [
    {
     "name": "stdout",
     "output_type": "stream",
     "text": [
      "There are 150173 tokens in Jones' Greek edition of Thucydides.\n",
      "There are 204771 tokens in the English translation of Thucydides.\n",
      "There are 1047 tokens in our class’s English translation of Thucydides.\n"
     ]
    },
    {
     "data": {
      "text/plain": [
       "\u001b[36mengTokens\u001b[39m: \u001b[32mInt\u001b[39m = \u001b[32m204771\u001b[39m\n",
       "\u001b[36mgrkTokens\u001b[39m: \u001b[32mInt\u001b[39m = \u001b[32m150173\u001b[39m\n",
       "\u001b[36mfuTokens\u001b[39m: \u001b[32mInt\u001b[39m = \u001b[32m1047\u001b[39m"
      ]
     },
     "execution_count": 21,
     "metadata": {},
     "output_type": "execute_result"
    }
   ],
   "source": [
    "val engTokens: Int = thucEng.size\n",
    "val grkTokens: Int = thucGrk.size\n",
    "val fuTokens: Int = thucFU.size\n",
    "\n",
    "println(s\"There are ${grkTokens} tokens in Jones' Greek edition of Thucydides.\")\n",
    "println(s\"There are ${engTokens} tokens in the English translation of Thucydides.\")\n",
    "println(s\"There are ${fuTokens} tokens in our class’s English translation of Thucydides.\")"
   ]
  },
  {
   "cell_type": "markdown",
   "metadata": {},
   "source": [
    "### Customized Corpora\n",
    "\n",
    "Each translator produced a specific translation of a specific passage:\n",
    "\n",
    "- Jackson:\n",
    "   - Greek: `urn:cts:greekLit:tlg0003.tlg001.grc.token:2.47.0-2.47.93`\n",
    "   - myEnglish: `urn:cts:greekLit:tlg0003.tlg001.engFu2021.token:2.47.0-2.47.112`\n",
    "   - Jowett: `urn:cts:greekLit:tlg0003.tlg001.eng.token:2.47.0-2.47.146`\n",
    "- CWB:\n",
    "   - Greek: `urn:cts:greekLit:tlg0003.tlg001.grc.token:2.47.95-2.48.61`\n",
    "   - myEnglish: `urn:cts:greekLit:tlg0003.tlg001.engFu2021.token:2.47.148-2.48.88`\n",
    "   - Jowett: `urn:cts:greekLit:tlg0003.tlg001.eng.token:2.47.114-2.48.61`\n",
    "- Sabria:\n",
    "   - Greek: `urn:cts:greekLit:tlg0003.tlg001.grc.token:`\n",
    "   - myEnglish: `urn:cts:greekLit:tlg0003.tlg001.engFu2021.token:`\n",
    "   - Jowett: `urn:cts:greekLit:tlg0003.tlg001.eng.token:`\n",
    "- Mallory:\n",
    "   - Greek: `urn:cts:greekLit:tlg0003.tlg001.grc.token:`\n",
    "   - myEnglish: `urn:cts:greekLit:tlg0003.tlg001.engFu2021.token:`\n",
    "   - Jowett: `urn:cts:greekLit:tlg0003.tlg001.eng.token:`\n",
    "- Ting:\n",
    "   - Greek: `urn:cts:greekLit:tlg0003.tlg001.grc.token:`\n",
    "   - myEnglish: `urn:cts:greekLit:tlg0003.tlg001.engFu2021.token:`\n",
    "   - Jowett: `urn:cts:greekLit:tlg0003.tlg001.eng.token:`\n",
    "- Sarah:\n",
    "   - Greek: `urn:cts:greekLit:tlg0003.tlg001.grc.token:`\n",
    "   - myEnglish: `urn:cts:greekLit:tlg0003.tlg001.engFu2021.token:`\n",
    "   - Jowett: `urn:cts:greekLit:tlg0003.tlg001.eng.token:`\n",
    "- Emma:\n",
    "   - Greek: `urn:cts:greekLit:tlg0003.tlg001.grc.token:`\n",
    "   - myEnglish: `urn:cts:greekLit:tlg0003.tlg001.engFu2021.token:`\n",
    "   - Jowett: `urn:cts:greekLit:tlg0003.tlg001.eng.token:`\n",
    "- Callie:\n",
    "   - Greek: `urn:cts:greekLit:tlg0003.tlg001.grc.token:`\n",
    "   - myEnglish: `urn:cts:greekLit:tlg0003.tlg001.engFu2021.token:`\n",
    "   - Jowett: `urn:cts:greekLit:tlg0003.tlg001.eng.token:`"
   ]
  },
  {
   "cell_type": "markdown",
   "metadata": {},
   "source": [
    "### Some Values You Can Use\n",
    "\n",
    "Each member of the class translated a specific passage. Below are values that capture URN citations for each member's passage, the Greek text, their own translation, and Jowett's translation."
   ]
  },
  {
   "cell_type": "code",
   "execution_count": 26,
   "metadata": {
    "scrolled": true
   },
   "outputs": [
    {
     "data": {
      "text/html": [
       "<div class=\"jp-RenderedText\">\n",
       "<pre><code><span style=\"color: rgb(0, 187, 187)\"><span class=\"ansi-cyan-fg\">jacksonGreek</span></span>: <span style=\"color: rgb(0, 187, 0)\"><span class=\"ansi-green-fg\">CtsUrn</span></span> = <span style=\"color: yellow\"><span class=\"ansi-yellow-fg\">CtsUrn</span></span>(\n",
       "  <span style=\"color: rgb(0, 187, 0)\"><span class=\"ansi-green-fg\">&quot;urn:cts:greekLit:tlg0003.tlg001.grc.token:2.47.0-2.47.93&quot;</span></span>\n",
       ")\n",
       "<span style=\"color: rgb(0, 187, 187)\"><span class=\"ansi-cyan-fg\">jacksonEnglish</span></span>: <span style=\"color: rgb(0, 187, 0)\"><span class=\"ansi-green-fg\">CtsUrn</span></span> = <span style=\"color: yellow\"><span class=\"ansi-yellow-fg\">CtsUrn</span></span>(\n",
       "  <span style=\"color: rgb(0, 187, 0)\"><span class=\"ansi-green-fg\">&quot;urn:cts:greekLit:tlg0003.tlg001.engFu2021.token:2.47.0-2.47.112&quot;</span></span>\n",
       ")\n",
       "<span style=\"color: rgb(0, 187, 187)\"><span class=\"ansi-cyan-fg\">jacksonJowett</span></span>: <span style=\"color: rgb(0, 187, 0)\"><span class=\"ansi-green-fg\">CtsUrn</span></span> = <span style=\"color: yellow\"><span class=\"ansi-yellow-fg\">CtsUrn</span></span>(\n",
       "  <span style=\"color: rgb(0, 187, 0)\"><span class=\"ansi-green-fg\">&quot;urn:cts:greekLit:tlg0003.tlg001.eng.token:2.47.0-2.47.146&quot;</span></span>\n",
       ")\n",
       "<span style=\"color: rgb(0, 187, 187)\"><span class=\"ansi-cyan-fg\">cwbGreek</span></span>: <span style=\"color: rgb(0, 187, 0)\"><span class=\"ansi-green-fg\">CtsUrn</span></span> = <span style=\"color: yellow\"><span class=\"ansi-yellow-fg\">CtsUrn</span></span>(\n",
       "  <span style=\"color: rgb(0, 187, 0)\"><span class=\"ansi-green-fg\">&quot;urn:cts:greekLit:tlg0003.tlg001.grc.token:2.47.95-2.48.61&quot;</span></span>\n",
       ")\n",
       "<span style=\"color: rgb(0, 187, 187)\"><span class=\"ansi-cyan-fg\">cwbEnglish</span></span>: <span style=\"color: rgb(0, 187, 0)\"><span class=\"ansi-green-fg\">CtsUrn</span></span> = <span style=\"color: yellow\"><span class=\"ansi-yellow-fg\">CtsUrn</span></span>(\n",
       "  <span style=\"color: rgb(0, 187, 0)\"><span class=\"ansi-green-fg\">&quot;urn:cts:greekLit:tlg0003.tlg001.engFu2021.token:2.47.148-2.48.88&quot;</span></span>\n",
       ")\n",
       "<span style=\"color: rgb(0, 187, 187)\"><span class=\"ansi-cyan-fg\">cwbJowett</span></span>: <span style=\"color: rgb(0, 187, 0)\"><span class=\"ansi-green-fg\">CtsUrn</span></span> = <span style=\"color: yellow\"><span class=\"ansi-yellow-fg\">CtsUrn</span></span>(\n",
       "  <span style=\"color: rgb(0, 187, 0)\"><span class=\"ansi-green-fg\">&quot;urn:cts:greekLit:tlg0003.tlg001.eng.token:2.47.114-2.48.61&quot;</span></span>\n",
       ")\n",
       "<span style=\"color: rgb(0, 187, 187)\"><span class=\"ansi-cyan-fg\">sabriaGreek</span></span>: <span style=\"color: rgb(0, 187, 0)\"><span class=\"ansi-green-fg\">CtsUrn</span></span> = <span style=\"color: yellow\"><span class=\"ansi-yellow-fg\">CtsUrn</span></span>(\n",
       "  <span style=\"color: rgb(0, 187, 0)\"><span class=\"ansi-green-fg\">&quot;urn:cts:greekLit:tlg0003.tlg001.grc.token:2.48.63-2.48.142&quot;</span></span>\n",
       ")\n",
       "<span style=\"color: rgb(0, 187, 187)\"><span class=\"ansi-cyan-fg\">sabriaEnglish</span></span>: <span style=\"color: rgb(0, 187, 0)\"><span class=\"ansi-green-fg\">CtsUrn</span></span> = <span style=\"color: yellow\"><span class=\"ansi-yellow-fg\">CtsUrn</span></span>(\n",
       "  <span style=\"color: rgb(0, 187, 0)\"><span class=\"ansi-green-fg\">&quot;urn:cts:greekLit:tlg0003.tlg001.engFu2021.token:2.48.90-2.48.218&quot;</span></span>\n",
       ")\n",
       "<span style=\"color: rgb(0, 187, 187)\"><span class=\"ansi-cyan-fg\">sabriaJowett</span></span>: <span style=\"color: rgb(0, 187, 0)\"><span class=\"ansi-green-fg\">CtsUrn</span></span> = <span style=\"color: yellow\"><span class=\"ansi-yellow-fg\">CtsUrn</span></span>(\n",
       "  <span style=\"color: rgb(0, 187, 0)\"><span class=\"ansi-green-fg\">&quot;urn:cts:greekLit:tlg0003.tlg001.eng.token:2.48.64-2.48.161&quot;</span></span>\n",
       ")\n",
       "<span style=\"color: rgb(0, 187, 187)\"><span class=\"ansi-cyan-fg\">malloryGreek</span></span>: <span style=\"color: rgb(0, 187, 0)\"><span class=\"ansi-green-fg\">CtsUrn</span></span> = <span style=\"color: yellow\"><span class=\"ansi-yellow-fg\">CtsUrn</span></span>(\n",
       "  <span style=\"color: rgb(0, 187, 0)\"><span class=\"ansi-green-fg\">&quot;urn:cts:greekLit:tlg0003.tlg001.grc.token:2.49.0-2.49.114&quot;</span></span>\n",
       ")\n",
       "<span style=\"color: rgb(0, 187, 187)\"><span class=\"ansi-cyan-fg\">malloryEnglish</span></span>: <span style=\"color: rgb(0, 187, 0)\"><span class=\"ansi-green-fg\">CtsUrn</span></span> = <span style=\"color: yellow\"><span class=\"ansi-yellow-fg\">CtsUrn</span></span>(\n",
       "  <span style=\"color: rgb(0, 187, 0)\"><span class=\"ansi-green-fg\">&quot;urn:cts:greekLit:tlg0003.tlg001.engFu2021.token:2.49.0-2.49.162&quot;</span></span>\n",
       ")\n",
       "<span style=\"color: rgb(0, 187, 187)\"><span class=\"ansi-cyan-fg\">malloryJowett</span></span>: <span style=\"color: rgb(0, 187, 0)\"><span class=\"ansi-green-fg\">CtsUrn</span></span> = <span style=\"color: yellow\"><span class=\"ansi-yellow-fg\">CtsUrn</span></span>(\n",
       "  <span style=\"color: rgb(0, 187, 0)\"><span class=\"ansi-green-fg\">&quot;urn:cts:greekLit:tlg0003.tlg001.eng.token:2.49.0-2.49.125&quot;</span></span>\n",
       ")\n",
       "<span style=\"color: rgb(0, 187, 187)\"><span class=\"ansi-cyan-fg\">tingGreek</span></span>: <span style=\"color: rgb(0, 187, 0)\"><span class=\"ansi-green-fg\">CtsUrn</span></span> = <span style=\"color: yellow\"><span class=\"ansi-yellow-fg\">CtsUrn</span></span>(\n",
       "  <span style=\"color: rgb(0, 187, 0)\"><span class=\"ansi-green-fg\">&quot;urn:cts:greekLit:tlg0003.tlg001.grc.token:2.49.116-2.49.185&quot;</span></span>\n",
       ")\n",
       "<span style=\"color: rgb(0, 187, 187)\"><span class=\"ansi-cyan-fg\">tingEnglish</span></span>: <span style=\"color: rgb(0, 187, 0)\"><span class=\"ansi-green-fg\">CtsUrn</span></span> = <span style=\"color: yellow\"><span class=\"ansi-yellow-fg\">CtsUrn</span></span>(\n",
       "  <span style=\"color: rgb(0, 187, 0)\"><span class=\"ansi-green-fg\">&quot;urn:cts:greekLit:tlg0003.tlg001.engFu2021.token:2.49.164-2.49.269&quot;</span></span>\n",
       ")\n",
       "<span style=\"color: rgb(0, 187, 187)\"><span class=\"ansi-cyan-fg\">tingJowett</span></span>: <span style=\"color: rgb(0, 187, 0)\"><span class=\"ansi-green-fg\">CtsUrn</span></span> = <span style=\"color: yellow\"><span class=\"ansi-yellow-fg\">CtsUrn</span></span>(\n",
       "  <span style=\"color: rgb(0, 187, 0)\"><span class=\"ansi-green-fg\">&quot;urn:cts:greekLit:tlg0003.tlg001.eng.token:2.49.127-2.49.225&quot;</span></span>\n",
       ")\n",
       "<span style=\"color: rgb(0, 187, 187)\"><span class=\"ansi-cyan-fg\">sarahGreek</span></span>: <span style=\"color: rgb(0, 187, 0)\"><span class=\"ansi-green-fg\">CtsUrn</span></span> = <span style=\"color: yellow\"><span class=\"ansi-yellow-fg\">CtsUrn</span></span>(\n",
       "  <span style=\"color: rgb(0, 187, 0)\"><span class=\"ansi-green-fg\">&quot;urn:cts:greekLit:tlg0003.tlg001.grc.token:2.49.187-2.49.285&quot;</span></span>\n",
       ")\n",
       "<span style=\"color: rgb(0, 187, 187)\"><span class=\"ansi-cyan-fg\">sarahEnglish</span></span>: <span style=\"color: rgb(0, 187, 0)\"><span class=\"ansi-green-fg\">CtsUrn</span></span> = <span style=\"color: yellow\"><span class=\"ansi-yellow-fg\">CtsUrn</span></span>(\n",
       "  <span style=\"color: rgb(0, 187, 0)\"><span class=\"ansi-green-fg\">&quot;urn:cts:greekLit:tlg0003.tlg001.engFu2021.token:2.49.271-2.49.399&quot;</span></span>\n",
       ")\n",
       "<span style=\"color: rgb(0, 187, 187)\"><span class=\"ansi-cyan-fg\">sarahJowett</span></span>: <span style=\"color: rgb(0, 187, 0)\"><span class=\"ansi-green-fg\">CtsUrn</span></span> = <span style=\"color: yellow\"><span class=\"ansi-yellow-fg\">CtsUrn</span></span>(\n",
       "  <span style=\"color: rgb(0, 187, 0)\"><span class=\"ansi-green-fg\">&quot;urn:cts:greekLit:tlg0003.tlg001.eng.token:2.49.227-2.49.364&quot;</span></span>\n",
       ")\n",
       "<span style=\"color: rgb(0, 187, 187)\"><span class=\"ansi-cyan-fg\">emmaGreek</span></span>: <span style=\"color: rgb(0, 187, 0)\"><span class=\"ansi-green-fg\">CtsUrn</span></span> = <span style=\"color: yellow\"><span class=\"ansi-yellow-fg\">CtsUrn</span></span>(\n",
       "  <span style=\"color: rgb(0, 187, 0)\"><span class=\"ansi-green-fg\">&quot;urn:cts:greekLit:tlg0003.tlg001.grc.token:2.49.287-2.49.355&quot;</span></span>\n",
       ")\n",
       "<span style=\"color: rgb(0, 187, 187)\"><span class=\"ansi-cyan-fg\">emmaEnglish</span></span>: <span style=\"color: rgb(0, 187, 0)\"><span class=\"ansi-green-fg\">CtsUrn</span></span> = <span style=\"color: yellow\"><span class=\"ansi-yellow-fg\">CtsUrn</span></span>(\n",
       "  <span style=\"color: rgb(0, 187, 0)\"><span class=\"ansi-green-fg\">&quot;urn:cts:greekLit:tlg0003.tlg001.engFu2021.token:2.49.401-2.49.500&quot;</span></span>\n",
       ")\n",
       "<span style=\"color: rgb(0, 187, 187)\"><span class=\"ansi-cyan-fg\">emmaJowett</span></span>: <span style=\"color: rgb(0, 187, 0)\"><span class=\"ansi-green-fg\">CtsUrn</span></span> = <span style=\"color: yellow\"><span class=\"ansi-yellow-fg\">CtsUrn</span></span>(\n",
       "  <span style=\"color: rgb(0, 187, 0)\"><span class=\"ansi-green-fg\">&quot;urn:cts:greekLit:tlg0003.tlg001.eng.token:2.49.366-2.49.452&quot;</span></span>\n",
       ")\n",
       "<span style=\"color: rgb(0, 187, 187)\"><span class=\"ansi-cyan-fg\">callieGreek</span></span>: <span style=\"color: rgb(0, 187, 0)\"><span class=\"ansi-green-fg\">CtsUrn</span></span> = <span style=\"color: yellow\"><span class=\"ansi-yellow-fg\">CtsUrn</span></span>(\n",
       "  <span style=\"color: rgb(0, 187, 0)\"><span class=\"ansi-green-fg\">&quot;urn:cts:greekLit:tlg0003.tlg001.grc.token:2.50.0-2.50.77&quot;</span></span>\n",
       ")\n",
       "<span style=\"color: rgb(0, 187, 187)\"><span class=\"ansi-cyan-fg\">callieEnglish</span></span>: <span style=\"color: rgb(0, 187, 0)\"><span class=\"ansi-green-fg\">CtsUrn</span></span> = <span style=\"color: yellow\"><span class=\"ansi-yellow-fg\">CtsUrn</span></span>(\n",
       "  <span style=\"color: rgb(0, 187, 0)\"><span class=\"ansi-green-fg\">&quot;urn:cts:greekLit:tlg0003.tlg001.engFu2021.token:2.50.0-2.50.124&quot;</span></span>\n",
       ")\n",
       "<span style=\"color: rgb(0, 187, 187)\"><span class=\"ansi-cyan-fg\">callieJowett</span></span>: <span style=\"color: rgb(0, 187, 0)\"><span class=\"ansi-green-fg\">CtsUrn</span></span> = <span style=\"color: yellow\"><span class=\"ansi-yellow-fg\">CtsUrn</span></span>(\n",
       "  <span style=\"color: rgb(0, 187, 0)\"><span class=\"ansi-green-fg\">&quot;urn:cts:greekLit:tlg0003.tlg001.eng.token:2.50.0-2.50.119&quot;</span></span>\n",
       ")</code></pre>\n",
       "</div>"
      ],
      "text/plain": [
       "\u001b[36mjacksonGreek\u001b[39m: \u001b[32mCtsUrn\u001b[39m = \u001b[33mCtsUrn\u001b[39m(\n",
       "  \u001b[32m\"urn:cts:greekLit:tlg0003.tlg001.grc.token:2.47.0-2.47.93\"\u001b[39m\n",
       ")\n",
       "\u001b[36mjacksonEnglish\u001b[39m: \u001b[32mCtsUrn\u001b[39m = \u001b[33mCtsUrn\u001b[39m(\n",
       "  \u001b[32m\"urn:cts:greekLit:tlg0003.tlg001.engFu2021.token:2.47.0-2.47.112\"\u001b[39m\n",
       ")\n",
       "\u001b[36mjacksonJowett\u001b[39m: \u001b[32mCtsUrn\u001b[39m = \u001b[33mCtsUrn\u001b[39m(\n",
       "  \u001b[32m\"urn:cts:greekLit:tlg0003.tlg001.eng.token:2.47.0-2.47.146\"\u001b[39m\n",
       ")\n",
       "\u001b[36mcwbGreek\u001b[39m: \u001b[32mCtsUrn\u001b[39m = \u001b[33mCtsUrn\u001b[39m(\n",
       "  \u001b[32m\"urn:cts:greekLit:tlg0003.tlg001.grc.token:2.47.95-2.48.61\"\u001b[39m\n",
       ")\n",
       "\u001b[36mcwbEnglish\u001b[39m: \u001b[32mCtsUrn\u001b[39m = \u001b[33mCtsUrn\u001b[39m(\n",
       "  \u001b[32m\"urn:cts:greekLit:tlg0003.tlg001.engFu2021.token:2.47.148-2.48.88\"\u001b[39m\n",
       ")\n",
       "\u001b[36mcwbJowett\u001b[39m: \u001b[32mCtsUrn\u001b[39m = \u001b[33mCtsUrn\u001b[39m(\n",
       "  \u001b[32m\"urn:cts:greekLit:tlg0003.tlg001.eng.token:2.47.114-2.48.61\"\u001b[39m\n",
       ")\n",
       "\u001b[36msabriaGreek\u001b[39m: \u001b[32mCtsUrn\u001b[39m = \u001b[33mCtsUrn\u001b[39m(\n",
       "  \u001b[32m\"urn:cts:greekLit:tlg0003.tlg001.grc.token:2.48.63-2.48.142\"\u001b[39m\n",
       ")\n",
       "\u001b[36msabriaEnglish\u001b[39m: \u001b[32mCtsUrn\u001b[39m = \u001b[33mCtsUrn\u001b[39m(\n",
       "  \u001b[32m\"urn:cts:greekLit:tlg0003.tlg001.engFu2021.token:2.48.90-2.48.218\"\u001b[39m\n",
       ")\n",
       "\u001b[36msabriaJowett\u001b[39m: \u001b[32mCtsUrn\u001b[39m = \u001b[33mCtsUrn\u001b[39m(\n",
       "  \u001b[32m\"urn:cts:greekLit:tlg0003.tlg001.eng.token:2.48.64-2.48.161\"\u001b[39m\n",
       ")\n",
       "\u001b[36mmalloryGreek\u001b[39m: \u001b[32mCtsUrn\u001b[39m = \u001b[33mCtsUrn\u001b[39m(\n",
       "  \u001b[32m\"urn:cts:greekLit:tlg0003.tlg001.grc.token:2.49.0-2.49.114\"\u001b[39m\n",
       ")\n",
       "\u001b[36mmalloryEnglish\u001b[39m: \u001b[32mCtsUrn\u001b[39m = \u001b[33mCtsUrn\u001b[39m(\n",
       "  \u001b[32m\"urn:cts:greekLit:tlg0003.tlg001.engFu2021.token:2.49.0-2.49.162\"\u001b[39m\n",
       ")\n",
       "\u001b[36mmalloryJowett\u001b[39m: \u001b[32mCtsUrn\u001b[39m = \u001b[33mCtsUrn\u001b[39m(\n",
       "  \u001b[32m\"urn:cts:greekLit:tlg0003.tlg001.eng.token:2.49.0-2.49.125\"\u001b[39m\n",
       ")\n",
       "\u001b[36mtingGreek\u001b[39m: \u001b[32mCtsUrn\u001b[39m = \u001b[33mCtsUrn\u001b[39m(\n",
       "  \u001b[32m\"urn:cts:greekLit:tlg0003.tlg001.grc.token:2.49.116-2.49.185\"\u001b[39m\n",
       ")\n",
       "\u001b[36mtingEnglish\u001b[39m: \u001b[32mCtsUrn\u001b[39m = \u001b[33mCtsUrn\u001b[39m(\n",
       "  \u001b[32m\"urn:cts:greekLit:tlg0003.tlg001.engFu2021.token:2.49.164-2.49.269\"\u001b[39m\n",
       ")\n",
       "\u001b[36mtingJowett\u001b[39m: \u001b[32mCtsUrn\u001b[39m = \u001b[33mCtsUrn\u001b[39m(\n",
       "  \u001b[32m\"urn:cts:greekLit:tlg0003.tlg001.eng.token:2.49.127-2.49.225\"\u001b[39m\n",
       ")\n",
       "\u001b[36msarahGreek\u001b[39m: \u001b[32mCtsUrn\u001b[39m = \u001b[33mCtsUrn\u001b[39m(\n",
       "  \u001b[32m\"urn:cts:greekLit:tlg0003.tlg001.grc.token:2.49.187-2.49.285\"\u001b[39m\n",
       ")\n",
       "\u001b[36msarahEnglish\u001b[39m: \u001b[32mCtsUrn\u001b[39m = \u001b[33mCtsUrn\u001b[39m(\n",
       "  \u001b[32m\"urn:cts:greekLit:tlg0003.tlg001.engFu2021.token:2.49.271-2.49.399\"\u001b[39m\n",
       ")\n",
       "\u001b[36msarahJowett\u001b[39m: \u001b[32mCtsUrn\u001b[39m = \u001b[33mCtsUrn\u001b[39m(\n",
       "  \u001b[32m\"urn:cts:greekLit:tlg0003.tlg001.eng.token:2.49.227-2.49.364\"\u001b[39m\n",
       ")\n",
       "\u001b[36memmaGreek\u001b[39m: \u001b[32mCtsUrn\u001b[39m = \u001b[33mCtsUrn\u001b[39m(\n",
       "  \u001b[32m\"urn:cts:greekLit:tlg0003.tlg001.grc.token:2.49.287-2.49.355\"\u001b[39m\n",
       ")\n",
       "\u001b[36memmaEnglish\u001b[39m: \u001b[32mCtsUrn\u001b[39m = \u001b[33mCtsUrn\u001b[39m(\n",
       "  \u001b[32m\"urn:cts:greekLit:tlg0003.tlg001.engFu2021.token:2.49.401-2.49.500\"\u001b[39m\n",
       ")\n",
       "\u001b[36memmaJowett\u001b[39m: \u001b[32mCtsUrn\u001b[39m = \u001b[33mCtsUrn\u001b[39m(\n",
       "  \u001b[32m\"urn:cts:greekLit:tlg0003.tlg001.eng.token:2.49.366-2.49.452\"\u001b[39m\n",
       ")\n",
       "\u001b[36mcallieGreek\u001b[39m: \u001b[32mCtsUrn\u001b[39m = \u001b[33mCtsUrn\u001b[39m(\n",
       "  \u001b[32m\"urn:cts:greekLit:tlg0003.tlg001.grc.token:2.50.0-2.50.77\"\u001b[39m\n",
       ")\n",
       "\u001b[36mcallieEnglish\u001b[39m: \u001b[32mCtsUrn\u001b[39m = \u001b[33mCtsUrn\u001b[39m(\n",
       "  \u001b[32m\"urn:cts:greekLit:tlg0003.tlg001.engFu2021.token:2.50.0-2.50.124\"\u001b[39m\n",
       ")\n",
       "\u001b[36mcallieJowett\u001b[39m: \u001b[32mCtsUrn\u001b[39m = \u001b[33mCtsUrn\u001b[39m(\n",
       "  \u001b[32m\"urn:cts:greekLit:tlg0003.tlg001.eng.token:2.50.0-2.50.119\"\u001b[39m\n",
       ")"
      ]
     },
     "metadata": {},
     "output_type": "display_data"
    }
   ],
   "source": [
    "var jacksonGreek:CtsUrn = CtsUrn(\"urn:cts:greekLit:tlg0003.tlg001.grc.token:2.47.0-2.47.93\")\n",
    "var jacksonEnglish:CtsUrn = CtsUrn(\"urn:cts:greekLit:tlg0003.tlg001.engFu2021.token:2.47.0-2.47.112\")\n",
    "var jacksonJowett:CtsUrn = CtsUrn(\"urn:cts:greekLit:tlg0003.tlg001.eng.token:2.47.0-2.47.146\")\n",
    "\n",
    "var cwbGreek:CtsUrn = CtsUrn(\"urn:cts:greekLit:tlg0003.tlg001.grc.token:2.47.95-2.48.61\")\n",
    "var cwbEnglish:CtsUrn = CtsUrn(\"urn:cts:greekLit:tlg0003.tlg001.engFu2021.token:2.47.148-2.48.88\")\n",
    "var cwbJowett:CtsUrn = CtsUrn(\"urn:cts:greekLit:tlg0003.tlg001.eng.token:2.47.114-2.48.61\")\n",
    "\n",
    "var sabriaGreek:CtsUrn = CtsUrn(\"urn:cts:greekLit:tlg0003.tlg001.grc.token:2.48.63-2.48.142\")\n",
    "var sabriaEnglish:CtsUrn = CtsUrn(\"urn:cts:greekLit:tlg0003.tlg001.engFu2021.token:2.48.90-2.48.218\")\n",
    "var sabriaJowett:CtsUrn = CtsUrn(\"urn:cts:greekLit:tlg0003.tlg001.eng.token:2.48.64-2.48.161\")\n",
    "\n",
    "var malloryGreek:CtsUrn = CtsUrn(\"urn:cts:greekLit:tlg0003.tlg001.grc.token:2.49.0-2.49.114\")\n",
    "var malloryEnglish:CtsUrn = CtsUrn(\"urn:cts:greekLit:tlg0003.tlg001.engFu2021.token:2.49.0-2.49.162\")\n",
    "var malloryJowett:CtsUrn = CtsUrn(\"urn:cts:greekLit:tlg0003.tlg001.eng.token:2.49.0-2.49.125\")\n",
    "\n",
    "var tingGreek:CtsUrn = CtsUrn(\"urn:cts:greekLit:tlg0003.tlg001.grc.token:2.49.116-2.49.185\")\n",
    "var tingEnglish:CtsUrn = CtsUrn(\"urn:cts:greekLit:tlg0003.tlg001.engFu2021.token:2.49.164-2.49.269\")\n",
    "var tingJowett:CtsUrn = CtsUrn(\"urn:cts:greekLit:tlg0003.tlg001.eng.token:2.49.127-2.49.225\")\n",
    "\n",
    "var sarahGreek:CtsUrn = CtsUrn(\"urn:cts:greekLit:tlg0003.tlg001.grc.token:2.49.187-2.49.285\")\n",
    "var sarahEnglish:CtsUrn = CtsUrn(\"urn:cts:greekLit:tlg0003.tlg001.engFu2021.token:2.49.271-2.49.399\")\n",
    "var sarahJowett:CtsUrn = CtsUrn(\"urn:cts:greekLit:tlg0003.tlg001.eng.token:2.49.227-2.49.364\")\n",
    "\n",
    "var emmaGreek:CtsUrn = CtsUrn(\"urn:cts:greekLit:tlg0003.tlg001.grc.token:2.49.287-2.49.355\")\n",
    "var emmaEnglish:CtsUrn = CtsUrn(\"urn:cts:greekLit:tlg0003.tlg001.engFu2021.token:2.49.401-2.49.500\")\n",
    "var emmaJowett:CtsUrn = CtsUrn(\"urn:cts:greekLit:tlg0003.tlg001.eng.token:2.49.366-2.49.452\")\n",
    "\n",
    "var callieGreek:CtsUrn = CtsUrn(\"urn:cts:greekLit:tlg0003.tlg001.grc.token:2.50.0-2.50.77\")\n",
    "var callieEnglish:CtsUrn = CtsUrn(\"urn:cts:greekLit:tlg0003.tlg001.engFu2021.token:2.50.0-2.50.124\")\n",
    "var callieJowett:CtsUrn = CtsUrn(\"urn:cts:greekLit:tlg0003.tlg001.eng.token:2.50.0-2.50.119\")\n",
    "\n",
    "val allGreek: CtsUrn = CtsUrn(\"urn:cts:greekLit:tlg0003.tlg001.grc.token:2.47-2.50\")\n",
    "val allEnglish: CtsUrn = CtsUrn(\"urn:cts:greekLit:tlg0003.tlg001.engFu2021.token:2.47-2.50\")\n",
    "val allJowett: CtsUrn = CtsUrn(\"urn:cts:greekLit:tlg0003.tlg001.eng.token:2.47-2.50\")"
   ]
  },
  {
   "cell_type": "markdown",
   "metadata": {},
   "source": [
    "## Count Your Passsage!\n",
    "\n",
    "First we have a little function that:\n",
    "\n",
    "1. Selects out a passage from the whole digital library.\n",
    "2. Returns how many citable passages (tokens) are in it.\n",
    "\n"
   ]
  },
  {
   "cell_type": "code",
   "execution_count": 27,
   "metadata": {},
   "outputs": [
    {
     "data": {
      "text/plain": [
       "defined \u001b[32mfunction\u001b[39m \u001b[36mcountBySection\u001b[39m"
      ]
     },
     "execution_count": 27,
     "metadata": {},
     "output_type": "execute_result"
    }
   ],
   "source": [
    "// Lets us send in a URN and get a count\n",
    "def countBySection(u: CtsUrn, c: Corpus = corp): Double = {\n",
    "    (c ~~ u).size.toDouble\n",
    "}"
   ]
  },
  {
   "cell_type": "markdown",
   "metadata": {},
   "source": [
    "### Get the Numbers\n",
    "\n",
    "Now we can get counts for each version of the text. Then we can find the ration of English words to Greek words, which is a simple fraction. If the answer is 1.0, then there is one English word for each Greek word. If the answer is less than 1.0, then it takes fewer English words to translate the Greek.\n",
    "\n",
    "The lower the answer, the more \"efficient\" is the translation. \n",
    "\n",
    "**But of course \"efficiency\" is probably not a primary value.**"
   ]
  },
  {
   "cell_type": "code",
   "execution_count": 29,
   "metadata": {},
   "outputs": [
    {
     "name": "stdout",
     "output_type": "stream",
     "text": [
      "My translation has 1.7211538461538463 for each Greek word.\n",
      "Jowett's translation has 1.2403846153846154 for each Greek word.\n"
     ]
    },
    {
     "data": {
      "text/html": [
       "<div class=\"jp-RenderedText\">\n",
       "<pre><code><span style=\"color: rgb(0, 187, 187)\"><span class=\"ansi-cyan-fg\">howManyGreekTokens</span></span>: <span style=\"color: rgb(0, 187, 0)\"><span class=\"ansi-green-fg\">Double</span></span> = <span style=\"color: rgb(0, 187, 0)\"><span class=\"ansi-green-fg\">104.0</span></span>\n",
       "<span style=\"color: rgb(0, 187, 187)\"><span class=\"ansi-cyan-fg\">howManyEnglishTokens</span></span>: <span style=\"color: rgb(0, 187, 0)\"><span class=\"ansi-green-fg\">Double</span></span> = <span style=\"color: rgb(0, 187, 0)\"><span class=\"ansi-green-fg\">179.0</span></span>\n",
       "<span style=\"color: rgb(0, 187, 187)\"><span class=\"ansi-cyan-fg\">howManyJowettTokens</span></span>: <span style=\"color: rgb(0, 187, 0)\"><span class=\"ansi-green-fg\">Double</span></span> = <span style=\"color: rgb(0, 187, 0)\"><span class=\"ansi-green-fg\">129.0</span></span>\n",
       "<span style=\"color: rgb(0, 187, 187)\"><span class=\"ansi-cyan-fg\">englishEff</span></span>: <span style=\"color: rgb(0, 187, 0)\"><span class=\"ansi-green-fg\">Double</span></span> = <span style=\"color: rgb(0, 187, 0)\"><span class=\"ansi-green-fg\">1.7211538461538463</span></span>\n",
       "<span style=\"color: rgb(0, 187, 187)\"><span class=\"ansi-cyan-fg\">jowettEff</span></span>: <span style=\"color: rgb(0, 187, 0)\"><span class=\"ansi-green-fg\">Double</span></span> = <span style=\"color: rgb(0, 187, 0)\"><span class=\"ansi-green-fg\">1.2403846153846154</span></span></code></pre>\n",
       "</div>"
      ],
      "text/plain": [
       "\u001b[36mhowManyGreekTokens\u001b[39m: \u001b[32mDouble\u001b[39m = \u001b[32m104.0\u001b[39m\n",
       "\u001b[36mhowManyEnglishTokens\u001b[39m: \u001b[32mDouble\u001b[39m = \u001b[32m179.0\u001b[39m\n",
       "\u001b[36mhowManyJowettTokens\u001b[39m: \u001b[32mDouble\u001b[39m = \u001b[32m129.0\u001b[39m\n",
       "\u001b[36menglishEff\u001b[39m: \u001b[32mDouble\u001b[39m = \u001b[32m1.7211538461538463\u001b[39m\n",
       "\u001b[36mjowettEff\u001b[39m: \u001b[32mDouble\u001b[39m = \u001b[32m1.2403846153846154\u001b[39m"
      ]
     },
     "metadata": {},
     "output_type": "display_data"
    }
   ],
   "source": [
    "// Count each section\n",
    "var howManyGreekTokens: Double = countBySection(cwbGreek)\n",
    "var howManyEnglishTokens: Double = countBySection(cwbEnglish)\n",
    "var howManyJowettTokens: Double = countBySection(cwbJowett)\n",
    "\n",
    "// Get the efficiency\n",
    "\n",
    "val englishEff: Double = howManyEnglishTokens / howManyGreekTokens\n",
    "val jowettEff: Double = howManyJowettTokens / howManyGreekTokens\n",
    "\n",
    "val differenceEff: Double = englishEff - jowettEff\n",
    "\n",
    "\n",
    "// Report\n",
    "\n",
    "println(s\"My translation has ${englishEff} English words for each Greek word.\")\n",
    "println(s\"Jowett's translation has ${jowettEff} English words for each Greek word.\")\n",
    "\n",
    "\n"
   ]
  },
  {
   "cell_type": "markdown",
   "metadata": {},
   "source": [
    "### Richness of Vocabulary and Forms"
   ]
  },
  {
   "cell_type": "code",
   "execution_count": null,
   "metadata": {},
   "outputs": [],
   "source": []
  },
  {
   "cell_type": "code",
   "execution_count": null,
   "metadata": {},
   "outputs": [],
   "source": [
    "val normGrouped: Vector[ (Char, Vector[Char])] = bigNormString.toVector.groupBy( c => c).toVector\n",
    "val lemGrouped: Vector[ (Char, Vector[Char])] = bigLemString.toVector.groupBy( c => c).toVector\n",
    "\n"
   ]
  },
  {
   "cell_type": "code",
   "execution_count": null,
   "metadata": {},
   "outputs": [],
   "source": []
  },
  {
   "cell_type": "code",
   "execution_count": null,
   "metadata": {},
   "outputs": [],
   "source": [
    "val normHisto = normGrouped.map( g => {\n",
    "    val c = g._1\n",
    "    val n = g._2.size\n",
    "    (c, n)\n",
    "}).sortBy(_._2)\n",
    "\n",
    "val lemHisto = lemGrouped.map( g => {\n",
    "    val c = g._1\n",
    "    val n = g._2.size\n",
    "    (c, n)\n",
    "}).sortBy(_._2)"
   ]
  },
  {
   "cell_type": "code",
   "execution_count": null,
   "metadata": {},
   "outputs": [],
   "source": [
    "for ( h <- lemHisto ) println( h )"
   ]
  },
  {
   "cell_type": "markdown",
   "metadata": {},
   "source": [
    "### Plot the Histogram"
   ]
  },
  {
   "cell_type": "code",
   "execution_count": null,
   "metadata": {},
   "outputs": [],
   "source": [
    "val normCharSeq = normHisto.map(_._1.toString).toSeq\n",
    "val normCountSeq = normHisto.map(_._2).toSeq\n",
    "\n",
    "val normalGreek = Scatter(\n",
    "  normCharSeq,\n",
    "  normCountSeq\n",
    ")\n",
    "\n",
    "val lemCharSeq = lemHisto.map(_._1.toString).toSeq\n",
    "val lemCountSeq = lemHisto.map(_._2).toSeq\n",
    "\n",
    "val lemmatizedGreek = Scatter(\n",
    "  normCharSeq,\n",
    "  lemCountSeq\n",
    ")\n",
    "\n",
    "//val data = Seq(lemmatizedGreek)\n",
    "//val data = Seq(normalGreek)\n",
    "//val data = Seq(lemmatizedGreek, normalGreek)\n",
    "val data = Seq(normalGreek, lemmatizedGreek)\n",
    "\n",
    "plot(data)"
   ]
  },
  {
   "cell_type": "code",
   "execution_count": null,
   "metadata": {},
   "outputs": [],
   "source": []
  },
  {
   "cell_type": "code",
   "execution_count": null,
   "metadata": {},
   "outputs": [],
   "source": []
  }
 ],
 "metadata": {
  "kernel_info": {
   "name": "scala"
  },
  "kernelspec": {
   "display_name": "Scala",
   "language": "scala",
   "name": "scala"
  },
  "language_info": {
   "codemirror_mode": "text/x-scala",
   "file_extension": ".scala",
   "mimetype": "text/x-scala",
   "name": "scala",
   "nbconvert_exporter": "script",
   "version": "2.12.11"
  },
  "nteract": {
   "version": "0.15.0"
  }
 },
 "nbformat": 4,
 "nbformat_minor": 2
}
